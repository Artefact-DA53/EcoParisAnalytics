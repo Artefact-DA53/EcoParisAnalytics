{
 "cells": [
  {
   "cell_type": "markdown",
   "metadata": {},
   "source": [
    "Import des libs"
   ]
  },
  {
   "cell_type": "code",
   "execution_count": null,
   "metadata": {},
   "outputs": [],
   "source": [
    "import numpy as np\n",
    "import pandas as pd\n",
    "import os\n",
    "\n",
    "# libs nécessaires pour requêter Drive\n",
    "from googleapiclient.discovery import build\n",
    "from googleapiclient.http import MediaFileUpload\n",
    "from google.oauth2 import service_account\n",
    "\n",
    "from io import BytesIO\n",
    "from googleapiclient.http import MediaIoBaseUpload\n",
    "from google.cloud import translate_v2 as translate"
   ]
  },
  {
   "cell_type": "code",
   "execution_count": 16,
   "metadata": {},
   "outputs": [
    {
     "ename": "HttpError",
     "evalue": "<HttpError 404 when requesting https://www.googleapis.com/drive/v3/files?fields=%2A&corpora=drive&supportsAllDrives=true&driveId=1JApYPJeITYJXVLl_M4lmVYyk7R70ukgB&includeItemsFromAllDrives=true&alt=json returned \"Shared drive not found: 1JApYPJeITYJXVLl_M4lmVYyk7R70ukgB\". Details: \"[{'message': 'Shared drive not found: 1JApYPJeITYJXVLl_M4lmVYyk7R70ukgB', 'domain': 'global', 'reason': 'notFound', 'location': 'driveId', 'locationType': 'parameter'}]\">",
     "output_type": "error",
     "traceback": [
      "\u001b[0;31m---------------------------------------------------------------------------\u001b[0m",
      "\u001b[0;31mHttpError\u001b[0m                                 Traceback (most recent call last)",
      "Cell \u001b[0;32mIn[16], line 21\u001b[0m\n\u001b[1;32m     16\u001b[0m service \u001b[38;5;241m=\u001b[39m build(\u001b[38;5;124m'\u001b[39m\u001b[38;5;124mdrive\u001b[39m\u001b[38;5;124m'\u001b[39m, \u001b[38;5;124m'\u001b[39m\u001b[38;5;124mv3\u001b[39m\u001b[38;5;124m'\u001b[39m, credentials\u001b[38;5;241m=\u001b[39mcredentials, static_discovery\u001b[38;5;241m=\u001b[39m\u001b[38;5;28;01mFalse\u001b[39;00m)\n\u001b[1;32m     19\u001b[0m \u001b[38;5;66;03m# appel de l'API v3 de Drive\u001b[39;00m\n\u001b[1;32m     20\u001b[0m results \u001b[38;5;241m=\u001b[39m \u001b[43mservice\u001b[49m\u001b[38;5;241;43m.\u001b[39;49m\u001b[43mfiles\u001b[49m\u001b[43m(\u001b[49m\u001b[43m)\u001b[49m\u001b[38;5;241;43m.\u001b[39;49m\u001b[43mlist\u001b[49m\u001b[43m(\u001b[49m\n\u001b[0;32m---> 21\u001b[0m \u001b[43m    \u001b[49m\u001b[43mfields\u001b[49m\u001b[38;5;241;43m=\u001b[39;49m\u001b[38;5;124;43m\"\u001b[39;49m\u001b[38;5;124;43m*\u001b[39;49m\u001b[38;5;124;43m\"\u001b[39;49m\u001b[43m,\u001b[49m\u001b[43m \u001b[49m\u001b[43mcorpora\u001b[49m\u001b[43m \u001b[49m\u001b[38;5;241;43m=\u001b[39;49m\u001b[43m \u001b[49m\u001b[38;5;124;43m\"\u001b[39;49m\u001b[38;5;124;43mdrive\u001b[39;49m\u001b[38;5;124;43m\"\u001b[39;49m\u001b[43m,\u001b[49m\u001b[43m \u001b[49m\u001b[43msupportsAllDrives\u001b[49m\u001b[43m \u001b[49m\u001b[38;5;241;43m=\u001b[39;49m\u001b[43m \u001b[49m\u001b[38;5;28;43;01mTrue\u001b[39;49;00m\u001b[43m,\u001b[49m\u001b[43m \u001b[49m\u001b[43mdriveId\u001b[49m\u001b[43m \u001b[49m\u001b[38;5;241;43m=\u001b[39;49m\u001b[43m \u001b[49m\u001b[38;5;124;43m\"\u001b[39;49m\u001b[38;5;124;43m1JApYPJeITYJXVLl_M4lmVYyk7R70ukgB\u001b[39;49m\u001b[38;5;124;43m\"\u001b[39;49m\u001b[43m,\u001b[49m\u001b[43m \u001b[49m\u001b[43mincludeItemsFromAllDrives\u001b[49m\u001b[43m \u001b[49m\u001b[38;5;241;43m=\u001b[39;49m\u001b[43m \u001b[49m\u001b[38;5;28;43;01mTrue\u001b[39;49;00m\u001b[43m)\u001b[49m\u001b[38;5;241;43m.\u001b[39;49m\u001b[43mexecute\u001b[49m\u001b[43m(\u001b[49m\u001b[43m)\u001b[49m\n\u001b[1;32m     22\u001b[0m items \u001b[38;5;241m=\u001b[39m results\u001b[38;5;241m.\u001b[39mget(\u001b[38;5;124m'\u001b[39m\u001b[38;5;124mfiles\u001b[39m\u001b[38;5;124m'\u001b[39m, [])\n\u001b[1;32m     24\u001b[0m \u001b[38;5;28;01mif\u001b[39;00m \u001b[38;5;129;01mnot\u001b[39;00m items:\n",
      "File \u001b[0;32m~/.pyenv/versions/Artefact/lib/python3.10/site-packages/googleapiclient/_helpers.py:130\u001b[0m, in \u001b[0;36mpositional.<locals>.positional_decorator.<locals>.positional_wrapper\u001b[0;34m(*args, **kwargs)\u001b[0m\n\u001b[1;32m    128\u001b[0m     \u001b[38;5;28;01melif\u001b[39;00m positional_parameters_enforcement \u001b[38;5;241m==\u001b[39m POSITIONAL_WARNING:\n\u001b[1;32m    129\u001b[0m         logger\u001b[38;5;241m.\u001b[39mwarning(message)\n\u001b[0;32m--> 130\u001b[0m \u001b[38;5;28;01mreturn\u001b[39;00m \u001b[43mwrapped\u001b[49m\u001b[43m(\u001b[49m\u001b[38;5;241;43m*\u001b[39;49m\u001b[43margs\u001b[49m\u001b[43m,\u001b[49m\u001b[43m \u001b[49m\u001b[38;5;241;43m*\u001b[39;49m\u001b[38;5;241;43m*\u001b[39;49m\u001b[43mkwargs\u001b[49m\u001b[43m)\u001b[49m\n",
      "File \u001b[0;32m~/.pyenv/versions/Artefact/lib/python3.10/site-packages/googleapiclient/http.py:938\u001b[0m, in \u001b[0;36mHttpRequest.execute\u001b[0;34m(self, http, num_retries)\u001b[0m\n\u001b[1;32m    936\u001b[0m     callback(resp)\n\u001b[1;32m    937\u001b[0m \u001b[38;5;28;01mif\u001b[39;00m resp\u001b[38;5;241m.\u001b[39mstatus \u001b[38;5;241m>\u001b[39m\u001b[38;5;241m=\u001b[39m \u001b[38;5;241m300\u001b[39m:\n\u001b[0;32m--> 938\u001b[0m     \u001b[38;5;28;01mraise\u001b[39;00m HttpError(resp, content, uri\u001b[38;5;241m=\u001b[39m\u001b[38;5;28mself\u001b[39m\u001b[38;5;241m.\u001b[39muri)\n\u001b[1;32m    939\u001b[0m \u001b[38;5;28;01mreturn\u001b[39;00m \u001b[38;5;28mself\u001b[39m\u001b[38;5;241m.\u001b[39mpostproc(resp, content)\n",
      "\u001b[0;31mHttpError\u001b[0m: <HttpError 404 when requesting https://www.googleapis.com/drive/v3/files?fields=%2A&corpora=drive&supportsAllDrives=true&driveId=1JApYPJeITYJXVLl_M4lmVYyk7R70ukgB&includeItemsFromAllDrives=true&alt=json returned \"Shared drive not found: 1JApYPJeITYJXVLl_M4lmVYyk7R70ukgB\". Details: \"[{'message': 'Shared drive not found: 1JApYPJeITYJXVLl_M4lmVYyk7R70ukgB', 'domain': 'global', 'reason': 'notFound', 'location': 'driveId', 'locationType': 'parameter'}]\">"
     ]
    }
   ],
   "source": [
    "# Import Drive\n",
    "\n",
    "# définition de l'emplacement de la clé du compte de service Google\n",
    "credpath = os.path.join(\"..\", \"credentials\", \"artefact-da53-projet-final-b60d2589fda1.json\")\n",
    "\n",
    "# définition des credentials Google en variable d'environnement en pointant vers la clé du compte de service Google\n",
    "os.environ[\"GOOGLE_APPLICATION_CREDENTIALS\"] = credpath\n",
    "\n",
    "# définition du scope de l'action.\n",
    "scope = [\"https://www.googleapis.com/auth/drive\"]\n",
    "\n",
    "# préparation et définition des credentials du compte de service Google en pointant vers la clé JSON et le scope.\n",
    "credentials = ServiceAccountCredentials.from_json_keyfile_name(credpath, scope)\n",
    "\n",
    "# préparation du client build/drive, en faisant passer les infos de credentials définies plus haut.\n",
    "service = build('drive', 'v3', credentials=credentials, static_discovery=False)\n",
    "\n",
    "\n",
    "# appel de l'API v3 de Drive\n",
    "results = service.files().list(\n",
    "    fields=\"*\", corpora = \"drive\", supportsAllDrives = True, driveId = \"1JApYPJeITYJXVLl_M4lmVYyk7R70ukgB\", includeItemsFromAllDrives = True).execute()\n",
    "items = results.get('files', [])\n",
    "\n",
    "if not items:\n",
    "    print('No files found.')\n",
    "else:\n",
    "    print('Files:')\n",
    "    for item in items:\n",
    "        print(u'{0} ({1})'.format(item['name'], item['id']))\n"
   ]
  },
  {
   "cell_type": "code",
   "execution_count": null,
   "metadata": {},
   "outputs": [],
   "source": [
    "# définition de l'emplacement de la clé du compte de service Google\n",
    "credpath = os.path.join(\"..\", \"credentials\", \"artefact-da53-projet-final-b60d2589fda1.json\")\n",
    "\n",
    "# définition des credentials Google en variable d'environnement en pointant vers la clé du compte de service Google\n",
    "os.environ[\"GOOGLE_APPLICATION_CREDENTIALS\"] = credpath\n",
    "\n",
    "## Credentials of service account\n",
    "credentials = service_account.Credentials.from_json_keyfile_name(credpath, scopes=[\"https://www.googleapis.com/auth/drive\"])\n",
    "\n",
    "## API Client Service\n",
    "service = build(\"drive\", \"v3\", credentials=credentials)\n",
    "\n",
    "# buffer_memory=BytesIO(b\"some initial binary data: \\x00\\x01\") # BytesIO() new_body\n",
    "buffer_memory=BytesIO() # BytesIO() new_body\n",
    "buffer_memory.write(new_body.encode(\"utf-8\"))\n",
    "\n",
    "## Prepare the file in memory (you can upload local file too with MediaBase Upload)\n",
    "media_body = MediaIoBaseUpload(buffer_memory, mimetype=\"text/html\", chunksize=1024*1024, resumable=False)\n",
    "body = {\n",
    "        \"title\": file_name,\n",
    "        \"name\": file_name,\n",
    "        \"mimeType\": \"application/vnd.google-apps.document\",\n",
    "        \"driveId\": \"1JApYPJeITYJXVLl_M4lmVYyk7R70ukgB\",\n",
    "        \"parents\": [\"1JApYPJeITYJXVLl_M4lmVYyk7R70ukgB\"],\n",
    "        }\n",
    "\n",
    "## Upload file\n",
    "returned_fields=\"id, name, mimeType, size, webViewLink, exportLinks\"\n",
    "upload_response=service.files().create(body=body,                                                            \n",
    "   media_body=media_body,\n",
    "   supportsAllDrives=True,\n",
    "   fields=returned_fields).execute()\n",
    "\n",
    "## Share the created file with user\n",
    "user_permission = {\n",
    "                    \"type\": \"user\",\n",
    "                    \"role\": \"writer\",\n",
    "                    \"emailAddress\": share_user,\n",
    "                }\n",
    "perm_response = service.permissions().create(\n",
    "                    fileId=uploaded_file_id,\n",
    "                    body=user_permission,\n",
    "                    fields=\"id\"\n",
    "                ).execute()"
   ]
  }
 ],
 "metadata": {
  "kernelspec": {
   "display_name": "Artefact",
   "language": "python",
   "name": "python3"
  },
  "language_info": {
   "codemirror_mode": {
    "name": "ipython",
    "version": 3
   },
   "file_extension": ".py",
   "mimetype": "text/x-python",
   "name": "python",
   "nbconvert_exporter": "python",
   "pygments_lexer": "ipython3",
   "version": "3.10.12"
  }
 },
 "nbformat": 4,
 "nbformat_minor": 2
}
